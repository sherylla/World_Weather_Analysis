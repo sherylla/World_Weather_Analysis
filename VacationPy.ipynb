{
 "cells": [
  {
   "cell_type": "code",
   "execution_count": 2,
   "metadata": {},
   "outputs": [],
   "source": [
    "import sys"
   ]
  },
  {
   "cell_type": "code",
   "execution_count": 3,
   "metadata": {},
   "outputs": [
    {
     "name": "stdout",
     "output_type": "stream",
     "text": [
      "Collecting gmaps\n",
      "\u001b[?25l  Downloading https://files.pythonhosted.org/packages/4c/aa/4e659d3ab6efe55c265d8159c845e9168e4c79045aef8e5460f9511cc3a7/gmaps-0.9.0.tar.gz (1.1MB)\n",
      "\u001b[K     |████████████████████████████████| 1.1MB 1.4MB/s eta 0:00:01\n",
      "\u001b[?25hRequirement already satisfied: ipython>=5.3.0 in /Users/sagpalo/opt/anaconda3/lib/python3.7/site-packages (from gmaps) (7.8.0)\n",
      "Requirement already satisfied: ipywidgets>=7.0.0 in /Users/sagpalo/opt/anaconda3/lib/python3.7/site-packages (from gmaps) (7.5.1)\n",
      "Requirement already satisfied: traitlets>=4.3.0 in /Users/sagpalo/opt/anaconda3/lib/python3.7/site-packages (from gmaps) (4.3.3)\n",
      "Collecting geojson>=2.0.0 (from gmaps)\n",
      "  Downloading https://files.pythonhosted.org/packages/e4/8d/9e28e9af95739e6d2d2f8d4bef0b3432da40b7c3588fbad4298c1be09e48/geojson-2.5.0-py2.py3-none-any.whl\n",
      "Requirement already satisfied: six in /Users/sagpalo/opt/anaconda3/lib/python3.7/site-packages (from gmaps) (1.12.0)\n",
      "Requirement already satisfied: jedi>=0.10 in /Users/sagpalo/opt/anaconda3/lib/python3.7/site-packages (from ipython>=5.3.0->gmaps) (0.15.1)\n",
      "Requirement already satisfied: prompt-toolkit<2.1.0,>=2.0.0 in /Users/sagpalo/opt/anaconda3/lib/python3.7/site-packages (from ipython>=5.3.0->gmaps) (2.0.10)\n",
      "Requirement already satisfied: decorator in /Users/sagpalo/opt/anaconda3/lib/python3.7/site-packages (from ipython>=5.3.0->gmaps) (4.4.0)\n",
      "Requirement already satisfied: appnope; sys_platform == \"darwin\" in /Users/sagpalo/opt/anaconda3/lib/python3.7/site-packages (from ipython>=5.3.0->gmaps) (0.1.0)\n",
      "Requirement already satisfied: backcall in /Users/sagpalo/opt/anaconda3/lib/python3.7/site-packages (from ipython>=5.3.0->gmaps) (0.1.0)\n",
      "Requirement already satisfied: pygments in /Users/sagpalo/opt/anaconda3/lib/python3.7/site-packages (from ipython>=5.3.0->gmaps) (2.4.2)\n",
      "Requirement already satisfied: pexpect; sys_platform != \"win32\" in /Users/sagpalo/opt/anaconda3/lib/python3.7/site-packages (from ipython>=5.3.0->gmaps) (4.7.0)\n",
      "Requirement already satisfied: pickleshare in /Users/sagpalo/opt/anaconda3/lib/python3.7/site-packages (from ipython>=5.3.0->gmaps) (0.7.5)\n",
      "Requirement already satisfied: setuptools>=18.5 in /Users/sagpalo/opt/anaconda3/lib/python3.7/site-packages (from ipython>=5.3.0->gmaps) (41.4.0)\n",
      "Requirement already satisfied: nbformat>=4.2.0 in /Users/sagpalo/opt/anaconda3/lib/python3.7/site-packages (from ipywidgets>=7.0.0->gmaps) (4.4.0)\n",
      "Requirement already satisfied: widgetsnbextension~=3.5.0 in /Users/sagpalo/opt/anaconda3/lib/python3.7/site-packages (from ipywidgets>=7.0.0->gmaps) (3.5.1)\n",
      "Requirement already satisfied: ipykernel>=4.5.1 in /Users/sagpalo/opt/anaconda3/lib/python3.7/site-packages (from ipywidgets>=7.0.0->gmaps) (5.1.2)\n",
      "Requirement already satisfied: ipython-genutils in /Users/sagpalo/opt/anaconda3/lib/python3.7/site-packages (from traitlets>=4.3.0->gmaps) (0.2.0)\n",
      "Requirement already satisfied: parso>=0.5.0 in /Users/sagpalo/opt/anaconda3/lib/python3.7/site-packages (from jedi>=0.10->ipython>=5.3.0->gmaps) (0.5.1)\n",
      "Requirement already satisfied: wcwidth in /Users/sagpalo/opt/anaconda3/lib/python3.7/site-packages (from prompt-toolkit<2.1.0,>=2.0.0->ipython>=5.3.0->gmaps) (0.1.7)\n",
      "Requirement already satisfied: ptyprocess>=0.5 in /Users/sagpalo/opt/anaconda3/lib/python3.7/site-packages (from pexpect; sys_platform != \"win32\"->ipython>=5.3.0->gmaps) (0.6.0)\n",
      "Requirement already satisfied: jsonschema!=2.5.0,>=2.4 in /Users/sagpalo/opt/anaconda3/lib/python3.7/site-packages (from nbformat>=4.2.0->ipywidgets>=7.0.0->gmaps) (3.0.2)\n",
      "Requirement already satisfied: jupyter-core in /Users/sagpalo/opt/anaconda3/lib/python3.7/site-packages (from nbformat>=4.2.0->ipywidgets>=7.0.0->gmaps) (4.5.0)\n",
      "Requirement already satisfied: notebook>=4.4.1 in /Users/sagpalo/opt/anaconda3/lib/python3.7/site-packages (from widgetsnbextension~=3.5.0->ipywidgets>=7.0.0->gmaps) (6.0.1)\n",
      "Requirement already satisfied: tornado>=4.2 in /Users/sagpalo/opt/anaconda3/lib/python3.7/site-packages (from ipykernel>=4.5.1->ipywidgets>=7.0.0->gmaps) (6.0.3)\n",
      "Requirement already satisfied: jupyter-client in /Users/sagpalo/opt/anaconda3/lib/python3.7/site-packages (from ipykernel>=4.5.1->ipywidgets>=7.0.0->gmaps) (5.3.3)\n",
      "Requirement already satisfied: pyrsistent>=0.14.0 in /Users/sagpalo/opt/anaconda3/lib/python3.7/site-packages (from jsonschema!=2.5.0,>=2.4->nbformat>=4.2.0->ipywidgets>=7.0.0->gmaps) (0.15.4)\n",
      "Requirement already satisfied: attrs>=17.4.0 in /Users/sagpalo/opt/anaconda3/lib/python3.7/site-packages (from jsonschema!=2.5.0,>=2.4->nbformat>=4.2.0->ipywidgets>=7.0.0->gmaps) (19.2.0)\n",
      "Requirement already satisfied: jinja2 in /Users/sagpalo/opt/anaconda3/lib/python3.7/site-packages (from notebook>=4.4.1->widgetsnbextension~=3.5.0->ipywidgets>=7.0.0->gmaps) (2.10.3)\n",
      "Requirement already satisfied: pyzmq>=17 in /Users/sagpalo/opt/anaconda3/lib/python3.7/site-packages (from notebook>=4.4.1->widgetsnbextension~=3.5.0->ipywidgets>=7.0.0->gmaps) (18.1.0)\n",
      "Requirement already satisfied: Send2Trash in /Users/sagpalo/opt/anaconda3/lib/python3.7/site-packages (from notebook>=4.4.1->widgetsnbextension~=3.5.0->ipywidgets>=7.0.0->gmaps) (1.5.0)\n",
      "Requirement already satisfied: prometheus-client in /Users/sagpalo/opt/anaconda3/lib/python3.7/site-packages (from notebook>=4.4.1->widgetsnbextension~=3.5.0->ipywidgets>=7.0.0->gmaps) (0.7.1)\n",
      "Requirement already satisfied: nbconvert in /Users/sagpalo/opt/anaconda3/lib/python3.7/site-packages (from notebook>=4.4.1->widgetsnbextension~=3.5.0->ipywidgets>=7.0.0->gmaps) (5.6.0)\n",
      "Requirement already satisfied: terminado>=0.8.1 in /Users/sagpalo/opt/anaconda3/lib/python3.7/site-packages (from notebook>=4.4.1->widgetsnbextension~=3.5.0->ipywidgets>=7.0.0->gmaps) (0.8.2)\n",
      "Requirement already satisfied: python-dateutil>=2.1 in /Users/sagpalo/opt/anaconda3/lib/python3.7/site-packages (from jupyter-client->ipykernel>=4.5.1->ipywidgets>=7.0.0->gmaps) (2.8.0)\n",
      "Requirement already satisfied: MarkupSafe>=0.23 in /Users/sagpalo/opt/anaconda3/lib/python3.7/site-packages (from jinja2->notebook>=4.4.1->widgetsnbextension~=3.5.0->ipywidgets>=7.0.0->gmaps) (1.1.1)\n",
      "Requirement already satisfied: entrypoints>=0.2.2 in /Users/sagpalo/opt/anaconda3/lib/python3.7/site-packages (from nbconvert->notebook>=4.4.1->widgetsnbextension~=3.5.0->ipywidgets>=7.0.0->gmaps) (0.3)\n",
      "Requirement already satisfied: bleach in /Users/sagpalo/opt/anaconda3/lib/python3.7/site-packages (from nbconvert->notebook>=4.4.1->widgetsnbextension~=3.5.0->ipywidgets>=7.0.0->gmaps) (3.1.0)\n",
      "Requirement already satisfied: testpath in /Users/sagpalo/opt/anaconda3/lib/python3.7/site-packages (from nbconvert->notebook>=4.4.1->widgetsnbextension~=3.5.0->ipywidgets>=7.0.0->gmaps) (0.4.2)\n",
      "Requirement already satisfied: defusedxml in /Users/sagpalo/opt/anaconda3/lib/python3.7/site-packages (from nbconvert->notebook>=4.4.1->widgetsnbextension~=3.5.0->ipywidgets>=7.0.0->gmaps) (0.6.0)\n",
      "Requirement already satisfied: pandocfilters>=1.4.1 in /Users/sagpalo/opt/anaconda3/lib/python3.7/site-packages (from nbconvert->notebook>=4.4.1->widgetsnbextension~=3.5.0->ipywidgets>=7.0.0->gmaps) (1.4.2)\n",
      "Requirement already satisfied: mistune<2,>=0.8.1 in /Users/sagpalo/opt/anaconda3/lib/python3.7/site-packages (from nbconvert->notebook>=4.4.1->widgetsnbextension~=3.5.0->ipywidgets>=7.0.0->gmaps) (0.8.4)\n",
      "Requirement already satisfied: webencodings in /Users/sagpalo/opt/anaconda3/lib/python3.7/site-packages (from bleach->nbconvert->notebook>=4.4.1->widgetsnbextension~=3.5.0->ipywidgets>=7.0.0->gmaps) (0.5.1)\n",
      "Building wheels for collected packages: gmaps\n",
      "  Building wheel for gmaps (setup.py) ... \u001b[?25ldone\n",
      "\u001b[?25h  Created wheel for gmaps: filename=gmaps-0.9.0-py2.py3-none-any.whl size=2076097 sha256=5d1a1db857783234b3d3522d2393e547284c5d32a87d8e155d4f1f82dea7135a\n",
      "  Stored in directory: /Users/sagpalo/Library/Caches/pip/wheels/33/eb/41/5302168c36fc8ce8f48143bb58fde1015d5bc0c62bc3ddbb38\n",
      "Successfully built gmaps\n",
      "Installing collected packages: geojson, gmaps\n",
      "Successfully installed geojson-2.5.0 gmaps-0.9.0\n"
     ]
    }
   ],
   "source": [
    "!{sys.executable} -m pip install gmaps"
   ]
  },
  {
   "cell_type": "code",
   "execution_count": 4,
   "metadata": {},
   "outputs": [],
   "source": [
    "# Import the dependencies.\n",
    "import pandas as pd\n",
    "import gmaps\n",
    "import requests\n",
    "# Import the API key.\n",
    "from config import g_key"
   ]
  },
  {
   "cell_type": "code",
   "execution_count": 5,
   "metadata": {},
   "outputs": [
    {
     "data": {
      "text/html": [
       "<div>\n",
       "<style scoped>\n",
       "    .dataframe tbody tr th:only-of-type {\n",
       "        vertical-align: middle;\n",
       "    }\n",
       "\n",
       "    .dataframe tbody tr th {\n",
       "        vertical-align: top;\n",
       "    }\n",
       "\n",
       "    .dataframe thead th {\n",
       "        text-align: right;\n",
       "    }\n",
       "</style>\n",
       "<table border=\"1\" class=\"dataframe\">\n",
       "  <thead>\n",
       "    <tr style=\"text-align: right;\">\n",
       "      <th></th>\n",
       "      <th>City_ID</th>\n",
       "      <th>City</th>\n",
       "      <th>Country</th>\n",
       "      <th>Date</th>\n",
       "      <th>Lat</th>\n",
       "      <th>Lng</th>\n",
       "      <th>Max Temp</th>\n",
       "      <th>Humidity</th>\n",
       "      <th>Cloudiness</th>\n",
       "      <th>Wind Speed</th>\n",
       "    </tr>\n",
       "  </thead>\n",
       "  <tbody>\n",
       "    <tr>\n",
       "      <td>0</td>\n",
       "      <td>0</td>\n",
       "      <td>Dikson</td>\n",
       "      <td>RU</td>\n",
       "      <td>2020-02-23 02:09:39</td>\n",
       "      <td>73.51</td>\n",
       "      <td>80.55</td>\n",
       "      <td>18.16</td>\n",
       "      <td>93</td>\n",
       "      <td>100</td>\n",
       "      <td>22.24</td>\n",
       "    </tr>\n",
       "    <tr>\n",
       "      <td>1</td>\n",
       "      <td>1</td>\n",
       "      <td>Guerrero Negro</td>\n",
       "      <td>MX</td>\n",
       "      <td>2020-02-23 02:09:48</td>\n",
       "      <td>27.98</td>\n",
       "      <td>-114.06</td>\n",
       "      <td>59.50</td>\n",
       "      <td>75</td>\n",
       "      <td>82</td>\n",
       "      <td>18.92</td>\n",
       "    </tr>\n",
       "    <tr>\n",
       "      <td>2</td>\n",
       "      <td>2</td>\n",
       "      <td>Tasiilaq</td>\n",
       "      <td>GL</td>\n",
       "      <td>2020-02-23 02:11:40</td>\n",
       "      <td>65.61</td>\n",
       "      <td>-37.64</td>\n",
       "      <td>14.00</td>\n",
       "      <td>78</td>\n",
       "      <td>0</td>\n",
       "      <td>1.12</td>\n",
       "    </tr>\n",
       "    <tr>\n",
       "      <td>3</td>\n",
       "      <td>3</td>\n",
       "      <td>Mar Del Plata</td>\n",
       "      <td>AR</td>\n",
       "      <td>2020-02-23 02:08:47</td>\n",
       "      <td>-38.00</td>\n",
       "      <td>-57.56</td>\n",
       "      <td>60.01</td>\n",
       "      <td>87</td>\n",
       "      <td>0</td>\n",
       "      <td>2.24</td>\n",
       "    </tr>\n",
       "    <tr>\n",
       "      <td>4</td>\n",
       "      <td>4</td>\n",
       "      <td>Cidreira</td>\n",
       "      <td>BR</td>\n",
       "      <td>2020-02-23 02:10:21</td>\n",
       "      <td>-30.18</td>\n",
       "      <td>-50.21</td>\n",
       "      <td>70.12</td>\n",
       "      <td>64</td>\n",
       "      <td>3</td>\n",
       "      <td>6.67</td>\n",
       "    </tr>\n",
       "  </tbody>\n",
       "</table>\n",
       "</div>"
      ],
      "text/plain": [
       "   City_ID            City Country                 Date    Lat     Lng  \\\n",
       "0        0          Dikson      RU  2020-02-23 02:09:39  73.51   80.55   \n",
       "1        1  Guerrero Negro      MX  2020-02-23 02:09:48  27.98 -114.06   \n",
       "2        2        Tasiilaq      GL  2020-02-23 02:11:40  65.61  -37.64   \n",
       "3        3   Mar Del Plata      AR  2020-02-23 02:08:47 -38.00  -57.56   \n",
       "4        4        Cidreira      BR  2020-02-23 02:10:21 -30.18  -50.21   \n",
       "\n",
       "   Max Temp  Humidity  Cloudiness  Wind Speed  \n",
       "0     18.16        93         100       22.24  \n",
       "1     59.50        75          82       18.92  \n",
       "2     14.00        78           0        1.12  \n",
       "3     60.01        87           0        2.24  \n",
       "4     70.12        64           3        6.67  "
      ]
     },
     "execution_count": 5,
     "metadata": {},
     "output_type": "execute_result"
    }
   ],
   "source": [
    "# Store the CSV you saved created in part one into a DataFrame.\n",
    "city_data_df = pd.read_csv(\"weather_data/cities.csv\")\n",
    "city_data_df.head()"
   ]
  },
  {
   "cell_type": "code",
   "execution_count": 6,
   "metadata": {},
   "outputs": [
    {
     "data": {
      "text/plain": [
       "City_ID         int64\n",
       "City           object\n",
       "Country        object\n",
       "Date           object\n",
       "Lat           float64\n",
       "Lng           float64\n",
       "Max Temp      float64\n",
       "Humidity        int64\n",
       "Cloudiness      int64\n",
       "Wind Speed    float64\n",
       "dtype: object"
      ]
     },
     "execution_count": 6,
     "metadata": {},
     "output_type": "execute_result"
    }
   ],
   "source": [
    "city_data_df.dtypes"
   ]
  },
  {
   "cell_type": "code",
   "execution_count": 7,
   "metadata": {},
   "outputs": [],
   "source": [
    "# Configure gmaps to use your Google API key.\n",
    "gmaps.configure(api_key=g_key)"
   ]
  },
  {
   "cell_type": "code",
   "execution_count": 25,
   "metadata": {},
   "outputs": [
    {
     "data": {
      "application/vnd.jupyter.widget-view+json": {
       "model_id": "9d73ce87cde84e0192af4b0f1eb51c2b",
       "version_major": 2,
       "version_minor": 0
      },
      "text/plain": [
       "Figure(layout=FigureLayout(height='420px'))"
      ]
     },
     "metadata": {},
     "output_type": "display_data"
    }
   ],
   "source": [
    "# Heatmap of temperature\n",
    "# Get the latitude and longitude.\n",
    "locations = city_data_df[[\"Lat\", \"Lng\"]]\n",
    "# Get the maximum temperature.\n",
    "max_temp = city_data_df[\"Max Temp\"]\n",
    "# Assign the figure variable.\n",
    "fig = gmaps.figure(center=(30.0, 31.0), zoom_level=1.75)\n",
    "# Assign the heatmap variable.\n",
    "heat_layer = heat_layer = gmaps.heatmap_layer(locations, dissipating=False, max_intensity=500, point_radius=5, weights=[max(temp, 0) for temp in max_temp])\n",
    "# Add the heatmap layer.\n",
    "fig.add_layer(heat_layer)\n",
    "# Call the figure to plot the data.\n",
    "fig"
   ]
  },
  {
   "cell_type": "code",
   "execution_count": 26,
   "metadata": {},
   "outputs": [
    {
     "data": {
      "application/vnd.jupyter.widget-view+json": {
       "model_id": "36011861132940fe966fc09099946064",
       "version_major": 2,
       "version_minor": 0
      },
      "text/plain": [
       "Figure(layout=FigureLayout(height='420px'))"
      ]
     },
     "metadata": {},
     "output_type": "display_data"
    }
   ],
   "source": [
    "# Heatmap of percent humidity\n",
    "locations = city_data_df[[\"Lat\", \"Lng\"]]\n",
    "humidity = city_data_df[\"Humidity\"]\n",
    "fig = gmaps.figure(center=(30.0, 31.0), zoom_level=1.5)\n",
    "heat_layer = gmaps.heatmap_layer(locations, weights=humidity, dissipating=False, max_intensity=500, point_radius=5)\n",
    "\n",
    "fig.add_layer(heat_layer)\n",
    "# Call the figure to plot the data.\n",
    "fig"
   ]
  },
  {
   "cell_type": "code",
   "execution_count": 27,
   "metadata": {},
   "outputs": [
    {
     "data": {
      "application/vnd.jupyter.widget-view+json": {
       "model_id": "0951f6fcb30b49d5a0171103d83d8d71",
       "version_major": 2,
       "version_minor": 0
      },
      "text/plain": [
       "Figure(layout=FigureLayout(height='420px'))"
      ]
     },
     "metadata": {},
     "output_type": "display_data"
    }
   ],
   "source": [
    "# Heatmap of percent humidity\n",
    "locations = city_data_df[[\"Lat\", \"Lng\"]]\n",
    "clouds = city_data_df[\"Cloudiness\"]\n",
    "fig = gmaps.figure(center=(30.0, 31.0), zoom_level=1.5)\n",
    "heat_layer = gmaps.heatmap_layer(locations, weights=clouds, dissipating=False, max_intensity=300, point_radius=4)\n",
    "\n",
    "fig.add_layer(heat_layer)\n",
    "# Call the figure to plot the data.\n",
    "fig"
   ]
  },
  {
   "cell_type": "code",
   "execution_count": 29,
   "metadata": {},
   "outputs": [
    {
     "data": {
      "application/vnd.jupyter.widget-view+json": {
       "model_id": "e72391af00ad4d93a05b43c122bea6f0",
       "version_major": 2,
       "version_minor": 0
      },
      "text/plain": [
       "Figure(layout=FigureLayout(height='420px'))"
      ]
     },
     "metadata": {},
     "output_type": "display_data"
    }
   ],
   "source": [
    "# Heatmap of percent humidity\n",
    "locations = city_data_df[[\"Lat\", \"Lng\"]]\n",
    "wind = city_data_df[\"Wind Speed\"]\n",
    "fig = gmaps.figure(center=(30.0, 31.0), zoom_level=1.5)\n",
    "heat_layer = gmaps.heatmap_layer(locations, weights=wind, dissipating=False, max_intensity=500, point_radius=5)\n",
    "\n",
    "fig.add_layer(heat_layer)\n",
    "# Call the figure to plot the data.\n",
    "fig"
   ]
  },
  {
   "cell_type": "code",
   "execution_count": 30,
   "metadata": {},
   "outputs": [
    {
     "name": "stdout",
     "output_type": "stream",
     "text": [
      "What is the minimum temperature you would like for your trip? 70\n",
      "What is the maximum temperature you would like for your trip? 90\n"
     ]
    }
   ],
   "source": [
    "# Ask the customer to add a minimum and maximum temperature value.\n",
    "min_temp = float(input(\"What is the minimum temperature you would like for your trip? \"))\n",
    "max_temp = float(input(\"What is the maximum temperature you would like for your trip? \"))"
   ]
  },
  {
   "cell_type": "code",
   "execution_count": 31,
   "metadata": {},
   "outputs": [
    {
     "data": {
      "text/html": [
       "<div>\n",
       "<style scoped>\n",
       "    .dataframe tbody tr th:only-of-type {\n",
       "        vertical-align: middle;\n",
       "    }\n",
       "\n",
       "    .dataframe tbody tr th {\n",
       "        vertical-align: top;\n",
       "    }\n",
       "\n",
       "    .dataframe thead th {\n",
       "        text-align: right;\n",
       "    }\n",
       "</style>\n",
       "<table border=\"1\" class=\"dataframe\">\n",
       "  <thead>\n",
       "    <tr style=\"text-align: right;\">\n",
       "      <th></th>\n",
       "      <th>City_ID</th>\n",
       "      <th>City</th>\n",
       "      <th>Country</th>\n",
       "      <th>Date</th>\n",
       "      <th>Lat</th>\n",
       "      <th>Lng</th>\n",
       "      <th>Max Temp</th>\n",
       "      <th>Humidity</th>\n",
       "      <th>Cloudiness</th>\n",
       "      <th>Wind Speed</th>\n",
       "    </tr>\n",
       "  </thead>\n",
       "  <tbody>\n",
       "    <tr>\n",
       "      <td>4</td>\n",
       "      <td>4</td>\n",
       "      <td>Cidreira</td>\n",
       "      <td>BR</td>\n",
       "      <td>2020-02-23 02:10:21</td>\n",
       "      <td>-30.18</td>\n",
       "      <td>-50.21</td>\n",
       "      <td>70.12</td>\n",
       "      <td>64</td>\n",
       "      <td>3</td>\n",
       "      <td>6.67</td>\n",
       "    </tr>\n",
       "    <tr>\n",
       "      <td>6</td>\n",
       "      <td>6</td>\n",
       "      <td>Atuona</td>\n",
       "      <td>PF</td>\n",
       "      <td>2020-02-23 02:11:41</td>\n",
       "      <td>-9.80</td>\n",
       "      <td>-139.03</td>\n",
       "      <td>81.77</td>\n",
       "      <td>77</td>\n",
       "      <td>0</td>\n",
       "      <td>12.37</td>\n",
       "    </tr>\n",
       "    <tr>\n",
       "      <td>9</td>\n",
       "      <td>9</td>\n",
       "      <td>Boundiali</td>\n",
       "      <td>CI</td>\n",
       "      <td>2020-02-23 02:11:42</td>\n",
       "      <td>9.52</td>\n",
       "      <td>-6.49</td>\n",
       "      <td>71.55</td>\n",
       "      <td>16</td>\n",
       "      <td>0</td>\n",
       "      <td>0.38</td>\n",
       "    </tr>\n",
       "    <tr>\n",
       "      <td>12</td>\n",
       "      <td>12</td>\n",
       "      <td>Ternate</td>\n",
       "      <td>ID</td>\n",
       "      <td>2020-02-23 02:11:42</td>\n",
       "      <td>0.80</td>\n",
       "      <td>127.40</td>\n",
       "      <td>87.28</td>\n",
       "      <td>64</td>\n",
       "      <td>100</td>\n",
       "      <td>4.14</td>\n",
       "    </tr>\n",
       "    <tr>\n",
       "      <td>17</td>\n",
       "      <td>17</td>\n",
       "      <td>Rikitea</td>\n",
       "      <td>PF</td>\n",
       "      <td>2020-02-23 02:11:44</td>\n",
       "      <td>-23.12</td>\n",
       "      <td>-134.97</td>\n",
       "      <td>79.86</td>\n",
       "      <td>66</td>\n",
       "      <td>12</td>\n",
       "      <td>6.15</td>\n",
       "    </tr>\n",
       "    <tr>\n",
       "      <td>20</td>\n",
       "      <td>20</td>\n",
       "      <td>Poum</td>\n",
       "      <td>NC</td>\n",
       "      <td>2020-02-23 02:11:44</td>\n",
       "      <td>-20.23</td>\n",
       "      <td>164.02</td>\n",
       "      <td>80.56</td>\n",
       "      <td>78</td>\n",
       "      <td>31</td>\n",
       "      <td>15.64</td>\n",
       "    </tr>\n",
       "    <tr>\n",
       "      <td>21</td>\n",
       "      <td>21</td>\n",
       "      <td>Avarua</td>\n",
       "      <td>CK</td>\n",
       "      <td>2020-02-23 02:11:44</td>\n",
       "      <td>-21.21</td>\n",
       "      <td>-159.78</td>\n",
       "      <td>84.20</td>\n",
       "      <td>83</td>\n",
       "      <td>98</td>\n",
       "      <td>6.93</td>\n",
       "    </tr>\n",
       "    <tr>\n",
       "      <td>22</td>\n",
       "      <td>22</td>\n",
       "      <td>Hambantota</td>\n",
       "      <td>LK</td>\n",
       "      <td>2020-02-23 02:11:45</td>\n",
       "      <td>6.12</td>\n",
       "      <td>81.12</td>\n",
       "      <td>75.20</td>\n",
       "      <td>100</td>\n",
       "      <td>75</td>\n",
       "      <td>9.17</td>\n",
       "    </tr>\n",
       "    <tr>\n",
       "      <td>30</td>\n",
       "      <td>30</td>\n",
       "      <td>Fomboni</td>\n",
       "      <td>KM</td>\n",
       "      <td>2020-02-23 02:10:32</td>\n",
       "      <td>-12.28</td>\n",
       "      <td>43.74</td>\n",
       "      <td>84.83</td>\n",
       "      <td>77</td>\n",
       "      <td>100</td>\n",
       "      <td>13.31</td>\n",
       "    </tr>\n",
       "    <tr>\n",
       "      <td>31</td>\n",
       "      <td>31</td>\n",
       "      <td>Vanimo</td>\n",
       "      <td>PG</td>\n",
       "      <td>2020-02-23 02:11:47</td>\n",
       "      <td>-2.67</td>\n",
       "      <td>141.30</td>\n",
       "      <td>82.38</td>\n",
       "      <td>80</td>\n",
       "      <td>32</td>\n",
       "      <td>13.24</td>\n",
       "    </tr>\n",
       "  </tbody>\n",
       "</table>\n",
       "</div>"
      ],
      "text/plain": [
       "    City_ID        City Country                 Date    Lat     Lng  Max Temp  \\\n",
       "4         4    Cidreira      BR  2020-02-23 02:10:21 -30.18  -50.21     70.12   \n",
       "6         6      Atuona      PF  2020-02-23 02:11:41  -9.80 -139.03     81.77   \n",
       "9         9   Boundiali      CI  2020-02-23 02:11:42   9.52   -6.49     71.55   \n",
       "12       12     Ternate      ID  2020-02-23 02:11:42   0.80  127.40     87.28   \n",
       "17       17     Rikitea      PF  2020-02-23 02:11:44 -23.12 -134.97     79.86   \n",
       "20       20        Poum      NC  2020-02-23 02:11:44 -20.23  164.02     80.56   \n",
       "21       21      Avarua      CK  2020-02-23 02:11:44 -21.21 -159.78     84.20   \n",
       "22       22  Hambantota      LK  2020-02-23 02:11:45   6.12   81.12     75.20   \n",
       "30       30     Fomboni      KM  2020-02-23 02:10:32 -12.28   43.74     84.83   \n",
       "31       31      Vanimo      PG  2020-02-23 02:11:47  -2.67  141.30     82.38   \n",
       "\n",
       "    Humidity  Cloudiness  Wind Speed  \n",
       "4         64           3        6.67  \n",
       "6         77           0       12.37  \n",
       "9         16           0        0.38  \n",
       "12        64         100        4.14  \n",
       "17        66          12        6.15  \n",
       "20        78          31       15.64  \n",
       "21        83          98        6.93  \n",
       "22       100          75        9.17  \n",
       "30        77         100       13.31  \n",
       "31        80          32       13.24  "
      ]
     },
     "execution_count": 31,
     "metadata": {},
     "output_type": "execute_result"
    }
   ],
   "source": [
    "# Filter the dataset to find the cities that fit the criteria.\n",
    "preferred_cities_df = city_data_df.loc[(city_data_df[\"Max Temp\"] <= max_temp) & \\\n",
    "                                       (city_data_df[\"Max Temp\"] >= min_temp)]\n",
    "preferred_cities_df.head(10)"
   ]
  },
  {
   "cell_type": "code",
   "execution_count": 32,
   "metadata": {},
   "outputs": [
    {
     "data": {
      "text/plain": [
       "City_ID       208\n",
       "City          208\n",
       "Country       208\n",
       "Date          208\n",
       "Lat           208\n",
       "Lng           208\n",
       "Max Temp      208\n",
       "Humidity      208\n",
       "Cloudiness    208\n",
       "Wind Speed    208\n",
       "dtype: int64"
      ]
     },
     "execution_count": 32,
     "metadata": {},
     "output_type": "execute_result"
    }
   ],
   "source": [
    "preferred_cities_df.count()"
   ]
  },
  {
   "cell_type": "code",
   "execution_count": 34,
   "metadata": {},
   "outputs": [
    {
     "data": {
      "text/html": [
       "<div>\n",
       "<style scoped>\n",
       "    .dataframe tbody tr th:only-of-type {\n",
       "        vertical-align: middle;\n",
       "    }\n",
       "\n",
       "    .dataframe tbody tr th {\n",
       "        vertical-align: top;\n",
       "    }\n",
       "\n",
       "    .dataframe thead th {\n",
       "        text-align: right;\n",
       "    }\n",
       "</style>\n",
       "<table border=\"1\" class=\"dataframe\">\n",
       "  <thead>\n",
       "    <tr style=\"text-align: right;\">\n",
       "      <th></th>\n",
       "      <th>City</th>\n",
       "      <th>Country</th>\n",
       "      <th>Max Temp</th>\n",
       "      <th>Lat</th>\n",
       "      <th>Lng</th>\n",
       "      <th>Hotel Name</th>\n",
       "    </tr>\n",
       "  </thead>\n",
       "  <tbody>\n",
       "    <tr>\n",
       "      <td>4</td>\n",
       "      <td>Cidreira</td>\n",
       "      <td>BR</td>\n",
       "      <td>70.12</td>\n",
       "      <td>-30.18</td>\n",
       "      <td>-50.21</td>\n",
       "      <td></td>\n",
       "    </tr>\n",
       "    <tr>\n",
       "      <td>6</td>\n",
       "      <td>Atuona</td>\n",
       "      <td>PF</td>\n",
       "      <td>81.77</td>\n",
       "      <td>-9.80</td>\n",
       "      <td>-139.03</td>\n",
       "      <td></td>\n",
       "    </tr>\n",
       "    <tr>\n",
       "      <td>9</td>\n",
       "      <td>Boundiali</td>\n",
       "      <td>CI</td>\n",
       "      <td>71.55</td>\n",
       "      <td>9.52</td>\n",
       "      <td>-6.49</td>\n",
       "      <td></td>\n",
       "    </tr>\n",
       "    <tr>\n",
       "      <td>12</td>\n",
       "      <td>Ternate</td>\n",
       "      <td>ID</td>\n",
       "      <td>87.28</td>\n",
       "      <td>0.80</td>\n",
       "      <td>127.40</td>\n",
       "      <td></td>\n",
       "    </tr>\n",
       "    <tr>\n",
       "      <td>17</td>\n",
       "      <td>Rikitea</td>\n",
       "      <td>PF</td>\n",
       "      <td>79.86</td>\n",
       "      <td>-23.12</td>\n",
       "      <td>-134.97</td>\n",
       "      <td></td>\n",
       "    </tr>\n",
       "    <tr>\n",
       "      <td>20</td>\n",
       "      <td>Poum</td>\n",
       "      <td>NC</td>\n",
       "      <td>80.56</td>\n",
       "      <td>-20.23</td>\n",
       "      <td>164.02</td>\n",
       "      <td></td>\n",
       "    </tr>\n",
       "    <tr>\n",
       "      <td>21</td>\n",
       "      <td>Avarua</td>\n",
       "      <td>CK</td>\n",
       "      <td>84.20</td>\n",
       "      <td>-21.21</td>\n",
       "      <td>-159.78</td>\n",
       "      <td></td>\n",
       "    </tr>\n",
       "    <tr>\n",
       "      <td>22</td>\n",
       "      <td>Hambantota</td>\n",
       "      <td>LK</td>\n",
       "      <td>75.20</td>\n",
       "      <td>6.12</td>\n",
       "      <td>81.12</td>\n",
       "      <td></td>\n",
       "    </tr>\n",
       "    <tr>\n",
       "      <td>30</td>\n",
       "      <td>Fomboni</td>\n",
       "      <td>KM</td>\n",
       "      <td>84.83</td>\n",
       "      <td>-12.28</td>\n",
       "      <td>43.74</td>\n",
       "      <td></td>\n",
       "    </tr>\n",
       "    <tr>\n",
       "      <td>31</td>\n",
       "      <td>Vanimo</td>\n",
       "      <td>PG</td>\n",
       "      <td>82.38</td>\n",
       "      <td>-2.67</td>\n",
       "      <td>141.30</td>\n",
       "      <td></td>\n",
       "    </tr>\n",
       "  </tbody>\n",
       "</table>\n",
       "</div>"
      ],
      "text/plain": [
       "          City Country  Max Temp    Lat     Lng Hotel Name\n",
       "4     Cidreira      BR     70.12 -30.18  -50.21           \n",
       "6       Atuona      PF     81.77  -9.80 -139.03           \n",
       "9    Boundiali      CI     71.55   9.52   -6.49           \n",
       "12     Ternate      ID     87.28   0.80  127.40           \n",
       "17     Rikitea      PF     79.86 -23.12 -134.97           \n",
       "20        Poum      NC     80.56 -20.23  164.02           \n",
       "21      Avarua      CK     84.20 -21.21 -159.78           \n",
       "22  Hambantota      LK     75.20   6.12   81.12           \n",
       "30     Fomboni      KM     84.83 -12.28   43.74           \n",
       "31      Vanimo      PG     82.38  -2.67  141.30           "
      ]
     },
     "execution_count": 34,
     "metadata": {},
     "output_type": "execute_result"
    }
   ],
   "source": [
    "# Create DataFrame called hotel_df to store hotel names along with city, country, max temp, and coordinates.\n",
    "hotel_df = preferred_cities_df[[\"City\", \"Country\", \"Max Temp\", \"Lat\", \"Lng\"]].copy()\n",
    "hotel_df[\"Hotel Name\"] = \"\"\n",
    "hotel_df.head(10)"
   ]
  },
  {
   "cell_type": "code",
   "execution_count": 35,
   "metadata": {},
   "outputs": [],
   "source": [
    "# Set parameters to search for a hotel.\n",
    "params = {\n",
    "    \"radius\": 5000,\n",
    "    \"type\": \"lodging\",\n",
    "    \"key\": g_key\n",
    "}"
   ]
  },
  {
   "cell_type": "code",
   "execution_count": 38,
   "metadata": {},
   "outputs": [
    {
     "name": "stdout",
     "output_type": "stream",
     "text": [
      "Hotel not found... skipping.\n",
      "Hotel not found... skipping.\n",
      "Hotel not found... skipping.\n",
      "Hotel not found... skipping.\n",
      "Hotel not found... skipping.\n",
      "Hotel not found... skipping.\n",
      "Hotel not found... skipping.\n",
      "Hotel not found... skipping.\n",
      "Hotel not found... skipping.\n",
      "Hotel not found... skipping.\n",
      "Hotel not found... skipping.\n",
      "Hotel not found... skipping.\n",
      "Hotel not found... skipping.\n",
      "Hotel not found... skipping.\n",
      "Hotel not found... skipping.\n"
     ]
    }
   ],
   "source": [
    "# Iterate through the DataFrame.\n",
    "for index, row in hotel_df.iterrows():\n",
    "    # Get the latitude and longitude.\n",
    "    lat = row[\"Lat\"]\n",
    "    lng = row[\"Lng\"]\n",
    "\n",
    "    # Add the latitude and longitude to location key for the params dictionary.\n",
    "    params[\"location\"] = f\"{lat},{lng}\"\n",
    "\n",
    "    # Use the search term: \"lodging\" and our latitude and longitude.\n",
    "    base_url = \"https://maps.googleapis.com/maps/api/place/nearbysearch/json\"\n",
    "    # Make request and get the JSON data from the search.\n",
    "    hotels = requests.get(base_url, params=params).json()\n",
    "    # Grab the first hotel from the results and store the name.\n",
    "    try:\n",
    "      hotel_df.loc[index, \"Hotel Name\"] = hotels[\"results\"][0][\"name\"]\n",
    "    except (IndexError):\n",
    "      print(\"Hotel not found... skipping.\")"
   ]
  },
  {
   "cell_type": "code",
   "execution_count": 40,
   "metadata": {},
   "outputs": [
    {
     "data": {
      "text/html": [
       "<div>\n",
       "<style scoped>\n",
       "    .dataframe tbody tr th:only-of-type {\n",
       "        vertical-align: middle;\n",
       "    }\n",
       "\n",
       "    .dataframe tbody tr th {\n",
       "        vertical-align: top;\n",
       "    }\n",
       "\n",
       "    .dataframe thead th {\n",
       "        text-align: right;\n",
       "    }\n",
       "</style>\n",
       "<table border=\"1\" class=\"dataframe\">\n",
       "  <thead>\n",
       "    <tr style=\"text-align: right;\">\n",
       "      <th></th>\n",
       "      <th>City</th>\n",
       "      <th>Country</th>\n",
       "      <th>Max Temp</th>\n",
       "      <th>Lat</th>\n",
       "      <th>Lng</th>\n",
       "      <th>Hotel Name</th>\n",
       "    </tr>\n",
       "  </thead>\n",
       "  <tbody>\n",
       "    <tr>\n",
       "      <td>4</td>\n",
       "      <td>Cidreira</td>\n",
       "      <td>BR</td>\n",
       "      <td>70.12</td>\n",
       "      <td>-30.18</td>\n",
       "      <td>-50.21</td>\n",
       "      <td>Novomar Pousada e Turismo Ltda</td>\n",
       "    </tr>\n",
       "    <tr>\n",
       "      <td>6</td>\n",
       "      <td>Atuona</td>\n",
       "      <td>PF</td>\n",
       "      <td>81.77</td>\n",
       "      <td>-9.80</td>\n",
       "      <td>-139.03</td>\n",
       "      <td>Villa Enata</td>\n",
       "    </tr>\n",
       "    <tr>\n",
       "      <td>9</td>\n",
       "      <td>Boundiali</td>\n",
       "      <td>CI</td>\n",
       "      <td>71.55</td>\n",
       "      <td>9.52</td>\n",
       "      <td>-6.49</td>\n",
       "      <td>Hotel Paysan Boundiali</td>\n",
       "    </tr>\n",
       "    <tr>\n",
       "      <td>12</td>\n",
       "      <td>Ternate</td>\n",
       "      <td>ID</td>\n",
       "      <td>87.28</td>\n",
       "      <td>0.80</td>\n",
       "      <td>127.40</td>\n",
       "      <td>Grand Dafam Bela Ternate</td>\n",
       "    </tr>\n",
       "    <tr>\n",
       "      <td>17</td>\n",
       "      <td>Rikitea</td>\n",
       "      <td>PF</td>\n",
       "      <td>79.86</td>\n",
       "      <td>-23.12</td>\n",
       "      <td>-134.97</td>\n",
       "      <td>Pension Maro'i</td>\n",
       "    </tr>\n",
       "    <tr>\n",
       "      <td>20</td>\n",
       "      <td>Poum</td>\n",
       "      <td>NC</td>\n",
       "      <td>80.56</td>\n",
       "      <td>-20.23</td>\n",
       "      <td>164.02</td>\n",
       "      <td>Gîte kajeon</td>\n",
       "    </tr>\n",
       "    <tr>\n",
       "      <td>21</td>\n",
       "      <td>Avarua</td>\n",
       "      <td>CK</td>\n",
       "      <td>84.20</td>\n",
       "      <td>-21.21</td>\n",
       "      <td>-159.78</td>\n",
       "      <td>Paradise Inn</td>\n",
       "    </tr>\n",
       "    <tr>\n",
       "      <td>22</td>\n",
       "      <td>Hambantota</td>\n",
       "      <td>LK</td>\n",
       "      <td>75.20</td>\n",
       "      <td>6.12</td>\n",
       "      <td>81.12</td>\n",
       "      <td>Bungalow 63</td>\n",
       "    </tr>\n",
       "    <tr>\n",
       "      <td>30</td>\n",
       "      <td>Fomboni</td>\n",
       "      <td>KM</td>\n",
       "      <td>84.83</td>\n",
       "      <td>-12.28</td>\n",
       "      <td>43.74</td>\n",
       "      <td>Auberge les abou</td>\n",
       "    </tr>\n",
       "    <tr>\n",
       "      <td>31</td>\n",
       "      <td>Vanimo</td>\n",
       "      <td>PG</td>\n",
       "      <td>82.38</td>\n",
       "      <td>-2.67</td>\n",
       "      <td>141.30</td>\n",
       "      <td>Vahmoneh Lodge Vanimo</td>\n",
       "    </tr>\n",
       "  </tbody>\n",
       "</table>\n",
       "</div>"
      ],
      "text/plain": [
       "          City Country  Max Temp    Lat     Lng  \\\n",
       "4     Cidreira      BR     70.12 -30.18  -50.21   \n",
       "6       Atuona      PF     81.77  -9.80 -139.03   \n",
       "9    Boundiali      CI     71.55   9.52   -6.49   \n",
       "12     Ternate      ID     87.28   0.80  127.40   \n",
       "17     Rikitea      PF     79.86 -23.12 -134.97   \n",
       "20        Poum      NC     80.56 -20.23  164.02   \n",
       "21      Avarua      CK     84.20 -21.21 -159.78   \n",
       "22  Hambantota      LK     75.20   6.12   81.12   \n",
       "30     Fomboni      KM     84.83 -12.28   43.74   \n",
       "31      Vanimo      PG     82.38  -2.67  141.30   \n",
       "\n",
       "                        Hotel Name  \n",
       "4   Novomar Pousada e Turismo Ltda  \n",
       "6                      Villa Enata  \n",
       "9           Hotel Paysan Boundiali  \n",
       "12        Grand Dafam Bela Ternate  \n",
       "17                  Pension Maro'i  \n",
       "20                     Gîte kajeon  \n",
       "21                    Paradise Inn  \n",
       "22                     Bungalow 63  \n",
       "30                Auberge les abou  \n",
       "31           Vahmoneh Lodge Vanimo  "
      ]
     },
     "execution_count": 40,
     "metadata": {},
     "output_type": "execute_result"
    }
   ],
   "source": [
    "hotel_df.head(10)"
   ]
  },
  {
   "cell_type": "code",
   "execution_count": 42,
   "metadata": {},
   "outputs": [
    {
     "data": {
      "application/vnd.jupyter.widget-view+json": {
       "model_id": "d5fce79125ed458da5b22b861b1c5027",
       "version_major": 2,
       "version_minor": 0
      },
      "text/plain": [
       "Figure(layout=FigureLayout(height='420px'))"
      ]
     },
     "metadata": {},
     "output_type": "display_data"
    }
   ],
   "source": [
    "# Add a heatmap of temperature for the vacation spots.\n",
    "locations = hotel_df[[\"Lat\", \"Lng\"]]\n",
    "max_temp = hotel_df[\"Max Temp\"]\n",
    "fig = gmaps.figure(center=(30.0, 31.0), zoom_level=1.75)\n",
    "heat_layer = gmaps.heatmap_layer(locations, weights=max_temp, dissipating=False,\n",
    "             max_intensity=300, point_radius=4)\n",
    "\n",
    "fig.add_layer(heat_layer)\n",
    "# Call the figure to plot the data.\n",
    "fig"
   ]
  },
  {
   "cell_type": "code",
   "execution_count": 44,
   "metadata": {},
   "outputs": [
    {
     "data": {
      "application/vnd.jupyter.widget-view+json": {
       "model_id": "7c8bb42180d942f4b917481a58c6784e",
       "version_major": 2,
       "version_minor": 0
      },
      "text/plain": [
       "Figure(layout=FigureLayout(height='420px'))"
      ]
     },
     "metadata": {},
     "output_type": "display_data"
    }
   ],
   "source": [
    "# Add a heatmap of temperature for the vacation spots and marker for each city.\n",
    "locations = hotel_df[[\"Lat\", \"Lng\"]]\n",
    "max_temp = hotel_df[\"Max Temp\"]\n",
    "fig = gmaps.figure(center=(30.0, 31.0), zoom_level=1.5)\n",
    "heat_layer = gmaps.heatmap_layer(locations, weights=max_temp,\n",
    "             dissipating=False, max_intensity=300, point_radius=4)\n",
    "marker_layer = gmaps.marker_layer(locations)\n",
    "fig.add_layer(heat_layer)\n",
    "fig.add_layer(marker_layer)\n",
    "# Call the figure to plot the data.\n",
    "fig"
   ]
  },
  {
   "cell_type": "code",
   "execution_count": 45,
   "metadata": {},
   "outputs": [],
   "source": [
    "info_box_template = \"\"\"\n",
    "<dl>\n",
    "<dt>Hotel Name</dt><dd>{Hotel Name}</dd>\n",
    "<dt>City</dt><dd>{City}</dd>\n",
    "<dt>Country</dt><dd>{Country}</dd>\n",
    "<dt>Max Temp</dt><dd>{Max Temp} °F</dd>\n",
    "</dl>\n",
    "\"\"\""
   ]
  },
  {
   "cell_type": "code",
   "execution_count": 46,
   "metadata": {},
   "outputs": [],
   "source": [
    "# Store the DataFrame Row.\n",
    "hotel_info = [info_box_template.format(**row) for index, row in hotel_df.iterrows()]"
   ]
  },
  {
   "cell_type": "code",
   "execution_count": 47,
   "metadata": {},
   "outputs": [
    {
     "data": {
      "application/vnd.jupyter.widget-view+json": {
       "model_id": "178e941e617543a3b4dd0c5f08b7b623",
       "version_major": 2,
       "version_minor": 0
      },
      "text/plain": [
       "Figure(layout=FigureLayout(height='420px'))"
      ]
     },
     "metadata": {},
     "output_type": "display_data"
    }
   ],
   "source": [
    "# Add a heatmap of temperature for the vacation spots and a pop-up marker for each city.\n",
    "locations = hotel_df[[\"Lat\", \"Lng\"]]\n",
    "max_temp = hotel_df[\"Max Temp\"]\n",
    "fig = gmaps.figure(center=(30.0, 31.0), zoom_level=1.5)\n",
    "heat_layer = gmaps.heatmap_layer(locations, weights=max_temp,dissipating=False,\n",
    "             max_intensity=300, point_radius=4)\n",
    "marker_layer = gmaps.marker_layer(locations, info_box_content=hotel_info)\n",
    "fig.add_layer(heat_layer)\n",
    "fig.add_layer(marker_layer)\n",
    "\n",
    "# Call the figure to plot the data.\n",
    "fig"
   ]
  },
  {
   "cell_type": "code",
   "execution_count": null,
   "metadata": {},
   "outputs": [],
   "source": []
  }
 ],
 "metadata": {
  "kernelspec": {
   "display_name": "PythonData",
   "language": "python",
   "name": "pythondata"
  },
  "language_info": {
   "codemirror_mode": {
    "name": "ipython",
    "version": 3
   },
   "file_extension": ".py",
   "mimetype": "text/x-python",
   "name": "python",
   "nbconvert_exporter": "python",
   "pygments_lexer": "ipython3",
   "version": "3.7.4"
  }
 },
 "nbformat": 4,
 "nbformat_minor": 4
}
